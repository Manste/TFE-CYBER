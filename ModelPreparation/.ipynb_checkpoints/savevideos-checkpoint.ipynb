{
 "cells": [
  {
   "cell_type": "code",
   "execution_count": 1,
   "id": "2ddddfb9-25d2-4b99-9059-c2bbcc531cce",
   "metadata": {},
   "outputs": [
    {
     "name": "stdout",
     "output_type": "stream",
     "text": [
      "✅ Video saved as esp32_output.avi\n"
     ]
    }
   ],
   "source": [
    "import cv2\n",
    "\n",
    "ESP32_STREAM_URL = \"http://172.20.10.6:81/stream\"  # Change this to your ESP32-CAM IP\n",
    "SAVE_PATH = \"esp32_output.avi\"  # Video file name\n",
    "\n",
    "# Open video stream\n",
    "cap = cv2.VideoCapture(ESP32_STREAM_URL)\n",
    "\n",
    "# Get frame sizeq\n",
    "ret, frame = cap.read()\n",
    "if not ret:\n",
    "    print(\"⚠️ Failed to read video stream. Check ESP32-CAM.\")\n",
    "    cap.release()\n",
    "    exit()\n",
    "\n",
    "frame_height, frame_width, _ = frame.shape\n",
    "\n",
    "# Set up video writer (MJPEG, 10 FPS)\n",
    "fourcc = cv2.VideoWriter_fourcc(*'XVID')\n",
    "out = cv2.VideoWriter(SAVE_PATH, fourcc, 10, (frame_width, frame_height))\n",
    "\n",
    "while True:\n",
    "    ret, frame = cap.read()\n",
    "    if not ret:\n",
    "        print(\"⚠️ Frame read failed, stopping...\")\n",
    "        break\n",
    "    cv2.imshow(\"ESP32-CAM Stream\", frame)\n",
    "    out.write(frame)  # Save frame to video file\n",
    "\n",
    "    if cv2.waitKey(1) & 0xFF == ord(\"q\"):  # Press 'q' to stop\n",
    "        break\n",
    "\n",
    "cap.release()\n",
    "out.release()\n",
    "cv2.destroyAllWindows()\n",
    "print(f\"✅ Video saved as {SAVE_PATH}\")\n"
   ]
  },
  {
   "cell_type": "code",
   "execution_count": null,
   "id": "faf3aa69-4e98-4410-962c-19a8c758da75",
   "metadata": {},
   "outputs": [],
   "source": []
  },
  {
   "cell_type": "code",
   "execution_count": null,
   "id": "9b285e25-3236-4a82-a778-e9661746abb5",
   "metadata": {},
   "outputs": [],
   "source": []
  }
 ],
 "metadata": {
  "kernelspec": {
   "display_name": "Python 3 (ipykernel)",
   "language": "python",
   "name": "python3"
  },
  "language_info": {
   "codemirror_mode": {
    "name": "ipython",
    "version": 3
   },
   "file_extension": ".py",
   "mimetype": "text/x-python",
   "name": "python",
   "nbconvert_exporter": "python",
   "pygments_lexer": "ipython3",
   "version": "3.10.12"
  }
 },
 "nbformat": 4,
 "nbformat_minor": 5
}
